{
 "cells": [
  {
   "cell_type": "markdown",
   "metadata": {},
   "source": [
    "### Obtaining help"
   ]
  },
  {
   "cell_type": "markdown",
   "metadata": {},
   "source": [
    "- `doc randi` to open the documentation for the function `randi`."
   ]
  },
  {
   "cell_type": "markdown",
   "metadata": {},
   "source": [
    "### Creating evenly spaced vectors"
   ]
  },
  {
   "cell_type": "markdown",
   "metadata": {},
   "source": [
    "- Use `x:k:y` to create a row vector that starts with `x`, ends with `y` and every two adjacent elements are separated by `k`.\n",
    "- If you only know the first element, last element and number of elements you want in your list then use `linspace(x1, x2, n)`.\n",
    "- `A'` returns the transpose of the array `A`."
   ]
  },
  {
   "cell_type": "markdown",
   "metadata": {},
   "source": [
    "### Array creation functions"
   ]
  },
  {
   "cell_type": "markdown",
   "metadata": {},
   "source": [
    "- `rand(n)` creates a `nxn` array with random numbers between 0 and 1.\n",
    "- `rand(m, n)` creates a `mxn` array with random numbers between 0 and 1.\n",
    "- `zeros(m, n)` creates a `mxn` array of only zeros. \n",
    "- Technically the arguments in the `zeros()` and `rand()` functions is a column vector of numbers. So you could just as easily pass `[m, n]` into the function. So if you have an array `A`, then `zeros(size(A))` will return a zero matrix with the dimensions of `A`."
   ]
  },
  {
   "cell_type": "markdown",
   "metadata": {},
   "source": [
    "### Array indexing"
   ]
  },
  {
   "cell_type": "markdown",
   "metadata": {},
   "source": [
    "- `A(i, j)`\n",
    "- `A(end, end-1)`\n",
    "- `A(k)` traverses throught the array as a vector. \n",
    "- `A(:, 2)`\n",
    "- `A(1:3, :)` returns the first three rows of `A`.\n",
    "- `A(:, end-1:end)` returns the last two columns of `A`.\n",
    "- `A(index_array, index_array)` is the general case. "
   ]
  },
  {
   "cell_type": "markdown",
   "metadata": {},
   "source": [
    "### Changing values in arrays"
   ]
  },
  {
   "cell_type": "markdown",
   "metadata": {},
   "source": [
    "- `A(i, j) = x`\n",
    "- To interchange the first two columns of `A`:\n",
    "  \n",
    "      c1 = A(:, 1); \n",
    "      A(:, 1) = A(:, 2);\n",
    "      A(:, 2) = c1;"
   ]
  },
  {
   "cell_type": "markdown",
   "metadata": {},
   "source": [
    "### Array operations"
   ]
  },
  {
   "cell_type": "markdown",
   "metadata": {},
   "source": [
    "- `A + k` will add `k` to each element of `A` if `k` is a scalar.\n",
    "- Similarly: `A * k` and `A / k` perform an operation on all the elements of `A` and `B` if `k` is a scalar. \n",
    "- You can add arrays of the same size: `A + B`.\n",
    "- `round(A)`, `sqrt(A)` perform operations on all the elements of the array. \n",
    "- `*` is matrix multiplilcation. \n",
    "- `.*` will multiply the elements of two arrays in the same index position if the arrays are of the same dimensions.\n",
    "- `[c1; c2; c3; c4] .* [i1; i2; i3; i4]` where `c1, c2, c3, c4` are column and `i1, i2, i3, i4` are scalars will return\n",
    "              \n",
    "        [c1*i1; c2*i2; c3*i3; c4*i4]."
   ]
  },
  {
   "cell_type": "markdown",
   "metadata": {},
   "source": [
    "### Obtaining multiple outputs from function calls"
   ]
  },
  {
   "cell_type": "markdown",
   "metadata": {},
   "source": [
    "- `[dr, dc] = size(A)`\n",
    "- `[els, inds] = max(A)`\n",
    "- Using `~` in place of an output argument will ignore that output argument. "
   ]
  },
  {
   "cell_type": "markdown",
   "metadata": {},
   "source": [
    "### Plotting vectors"
   ]
  },
  {
   "cell_type": "markdown",
   "metadata": {},
   "source": [
    "- Two vectors of the same length can be plotted against eachother with `plot`. To plot `v2` against `v1`, using red circles as markers and no line connecting the markers we write: \n",
    "\n",
    "        plot(v1, v2, 'ro')\n",
    "\n",
    "- To plot another line on top of the previous: \n",
    "\n",
    "        hold on \n",
    "        plot(sample, mass1, 'ks')\n",
    "        \n",
    "- Enter `hold off` to return to the default behavior.\n",
    "- If you want to plot only one vector of `n` values, MATLAB will use the vector values as the `y`-axis and `1:n` as the `x`-axis:\n",
    "\n",
    "        plot(v1, 'ks')\n",
    "- Even more control is gained by entering line properties: \n",
    "\n",
    "        p = plot(v1);\n",
    "        p.LineWidth = 3;\n",
    "        p.LineStyle = '--';\n",
    "        p.Marker = 'o';\n",
    "        p.Color = 'k'\n",
    "        p.MarkerSize = 10;\n",
    "        p.MarkerFaceColor = 'r';\n",
    "        \n",
    "- **See the MATLAB Plot Gallery**."
   ]
  },
  {
   "cell_type": "markdown",
   "metadata": {},
   "source": [
    "### Annotating plots"
   ]
  },
  {
   "cell_type": "markdown",
   "metadata": {},
   "source": [
    "- You can add a title to a plot, labels to the axes and a legend:\n",
    "\n",
    "        plot(sample,mass1,\"ks\")\n",
    "        hold on\n",
    "        plot(sample,mass2,\"r*\")\n",
    "        \n",
    "        title(\"Sample Mass\")\n",
    "        ylabel(\"Mass (g)\")\n",
    "        legend(\"Exp A\", \"Exp B\")\n",
    "        \n",
    "- A variable's name can be used in the annotation of a plot:\n",
    "\n",
    "        bar(data(3, :))\n",
    "        title(\"Sample \" + sample(3) + \" Data\");"
   ]
  },
  {
   "cell_type": "markdown",
   "metadata": {},
   "source": [
    "### Importing data as a table"
   ]
  },
  {
   "cell_type": "markdown",
   "metadata": {},
   "source": [
    "- If we have a table imported into our workspace, say `elements`, we can extract information and also write to the table. \n",
    "- To create a column vector from a column of a table use: `d = elements.Density`.\n",
    "- To create a new column of the table where we will store new information: `elements.Mass = elements.Density .* elements.Volume1`.\n",
    "- You can also extract values from a table with regular array indexing. "
   ]
  },
  {
   "cell_type": "markdown",
   "metadata": {},
   "source": [
    "See also: \n",
    "- How to import data into MATLAB\n",
    "- Maintaining a table and manipulating data"
   ]
  },
  {
   "cell_type": "markdown",
   "metadata": {},
   "source": [
    "### Logical indexing"
   ]
  },
  {
   "cell_type": "markdown",
   "metadata": {},
   "source": [
    "- 'Not equal' is denoted by `~=`. \n",
    "- The result of a logical comparison is 1 for `true` and 0 for `false`.\n",
    "- If `A` is a `mxn` array, then `A < k` returns an `mxn` logical array of ones and zeros (which can take part in mathematical operations). If `A(i, j) < k` is true, then the result will have `1` in position `(i, j)`. Else it will have a `0`.\n",
    "- Find the amount of elements of `A` that are smaller than 4: \n",
    "\n",
    "        sum(sum(A < 4))\n",
    "        \n",
    "- Get a vector of all the elements of `A` that are smaller than 4: \n",
    "\n",
    "        A(A < 4)\n",
    "          \n",
    "- Get a vector of all the elements of `B` that correspond to where `A` is smaller than `4`: \n",
    "\n",
    "        B(A < 4)\n",
    "        \n",
    "- Change all the elements of `A` that are greater than `20` to `10`: \n",
    "\n",
    "        A(A > 20) = 10\n",
    "        \n",
    "- Note that this will not work for an array of ones and zeros that are not logical values.\n",
    "- We use `&` and `|` to combine logical expressions. "
   ]
  },
  {
   "cell_type": "markdown",
   "metadata": {},
   "source": [
    "### Loops "
   ]
  },
  {
   "cell_type": "markdown",
   "metadata": {},
   "source": [
    "- The `for` loop: \n",
    "\n",
    "        for i = row_vector\n",
    "        \n",
    "            code block \n",
    "            (no indenting necessary)\n",
    "            \n",
    "        end\n",
    "        \n",
    "- If you want the PC to pause after every iteration use `pause(x)`, where `x` is the pause time in seconds.  "
   ]
  },
  {
   "cell_type": "markdown",
   "metadata": {},
   "source": [
    "### Displaying text"
   ]
  },
  {
   "cell_type": "markdown",
   "metadata": {},
   "source": [
    "- `disp(\"Whatuuuuup\")` \n",
    "- If the thing that we want to print is too long, but we want to keep it printed in one line (until it breaks without our command) we use\n",
    "\n",
    "        disp(\"Whatuuuuuup \" + ...\n",
    "        \"dudes\")\n",
    "        \n",
    "        "
   ]
  }
 ],
 "metadata": {
  "kernelspec": {
   "display_name": "Python 3",
   "language": "python",
   "name": "python3"
  },
  "language_info": {
   "codemirror_mode": {
    "name": "ipython",
    "version": 3
   },
   "file_extension": ".py",
   "mimetype": "text/x-python",
   "name": "python",
   "nbconvert_exporter": "python",
   "pygments_lexer": "ipython3",
   "version": "3.7.4"
  }
 },
 "nbformat": 4,
 "nbformat_minor": 2
}
